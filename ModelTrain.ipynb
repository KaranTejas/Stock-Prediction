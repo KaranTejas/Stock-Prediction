{
  "cells": [
    {
      "cell_type": "code",
      "execution_count": null,
      "metadata": {
        "colab": {
          "base_uri": "https://localhost:8080/"
        },
        "id": "GgXEz-8IeioT",
        "outputId": "6ee10fcd-215c-4914-fd1a-46f2f68e489b"
      },
      "outputs": [
        {
          "name": "stdout",
          "output_type": "stream",
          "text": [
            "Requirement already satisfied: yfinance in /usr/local/lib/python3.7/dist-packages (0.1.70)\n",
            "Requirement already satisfied: lxml>=4.5.1 in /usr/local/lib/python3.7/dist-packages (from yfinance) (4.8.0)\n",
            "Requirement already satisfied: pandas>=0.24.0 in /usr/local/lib/python3.7/dist-packages (from yfinance) (1.3.5)\n",
            "Requirement already satisfied: requests>=2.26 in /usr/local/lib/python3.7/dist-packages (from yfinance) (2.27.1)\n",
            "Requirement already satisfied: multitasking>=0.0.7 in /usr/local/lib/python3.7/dist-packages (from yfinance) (0.0.10)\n",
            "Requirement already satisfied: numpy>=1.15 in /usr/local/lib/python3.7/dist-packages (from yfinance) (1.21.5)\n",
            "Requirement already satisfied: pytz>=2017.3 in /usr/local/lib/python3.7/dist-packages (from pandas>=0.24.0->yfinance) (2018.9)\n",
            "Requirement already satisfied: python-dateutil>=2.7.3 in /usr/local/lib/python3.7/dist-packages (from pandas>=0.24.0->yfinance) (2.8.2)\n",
            "Requirement already satisfied: six>=1.5 in /usr/local/lib/python3.7/dist-packages (from python-dateutil>=2.7.3->pandas>=0.24.0->yfinance) (1.15.0)\n",
            "Requirement already satisfied: idna<4,>=2.5 in /usr/local/lib/python3.7/dist-packages (from requests>=2.26->yfinance) (2.10)\n",
            "Requirement already satisfied: charset-normalizer~=2.0.0 in /usr/local/lib/python3.7/dist-packages (from requests>=2.26->yfinance) (2.0.12)\n",
            "Requirement already satisfied: certifi>=2017.4.17 in /usr/local/lib/python3.7/dist-packages (from requests>=2.26->yfinance) (2021.10.8)\n",
            "Requirement already satisfied: urllib3<1.27,>=1.21.1 in /usr/local/lib/python3.7/dist-packages (from requests>=2.26->yfinance) (1.24.3)\n"
          ]
        }
      ],
      "source": [
        "# !pip install yfinance\n",
        "import keras\n",
        "import yfinance as yf\n",
        "import pandas as pd\n",
        "import numpy as np\n",
        "import matplotlib.pyplot as plt\n",
        "from numpy import array\n",
        "from sklearn.preprocessing import MinMaxScaler\n",
        "from tensorflow.keras.models import Sequential\n",
        "from tensorflow.keras.layers import LSTM, Dense"
      ]
    },
    {
      "cell_type": "markdown",
      "metadata": {
        "id": "abqTONGCg3Wd"
      },
      "source": [
        "# Model Creation"
      ]
    },
    {
      "cell_type": "code",
      "execution_count": null,
      "metadata": {
        "colab": {
          "base_uri": "https://localhost:8080/"
        },
        "id": "JjrXUEAlfuaW",
        "outputId": "267d17b2-6f50-4dc6-e865-e9d9ceacc812"
      },
      "outputs": [
        {
          "name": "stdout",
          "output_type": "stream",
          "text": [
            "Model: \"sequential_4\"\n",
            "_________________________________________________________________\n",
            " Layer (type)                Output Shape              Param #   \n",
            "=================================================================\n",
            " lstm_12 (LSTM)              (None, 100, 50)           20200     \n",
            "                                                                 \n",
            " lstm_13 (LSTM)              (None, 100, 50)           20200     \n",
            "                                                                 \n",
            " lstm_14 (LSTM)              (None, 50)                20200     \n",
            "                                                                 \n",
            " dense_4 (Dense)             (None, 1)                 51        \n",
            "                                                                 \n",
            "=================================================================\n",
            "Total params: 60,651\n",
            "Trainable params: 60,651\n",
            "Non-trainable params: 0\n",
            "_________________________________________________________________\n"
          ]
        }
      ],
      "source": [
        "newModel=Sequential()\n",
        "newModel.add(LSTM(50,return_sequences=True,input_shape=(100,50)))\n",
        "newModel.add(LSTM(50,return_sequences=True))\n",
        "newModel.add(LSTM(50))\n",
        "newModel.add(Dense(1))\n",
        "newModel.summary()\n",
        "newModel.compile(loss='mean_squared_error',optimizer='adam')"
      ]
    },
    {
      "cell_type": "code",
      "execution_count": null,
      "metadata": {
        "colab": {
          "base_uri": "https://localhost:8080/"
        },
        "id": "v2b79Hs1fwQZ",
        "outputId": "ba5e5eab-d2da-4235-dfeb-d59cc603923a"
      },
      "outputs": [
        {
          "name": "stderr",
          "output_type": "stream",
          "text": [
            "WARNING:absl:Found untraced functions such as lstm_cell_30_layer_call_fn, lstm_cell_30_layer_call_and_return_conditional_losses, lstm_cell_31_layer_call_fn, lstm_cell_31_layer_call_and_return_conditional_losses, lstm_cell_32_layer_call_fn while saving (showing 5 of 6). These functions will not be directly callable after loading.\n"
          ]
        },
        {
          "name": "stdout",
          "output_type": "stream",
          "text": [
            "INFO:tensorflow:Assets written to: Save_Model/assets\n"
          ]
        },
        {
          "name": "stderr",
          "output_type": "stream",
          "text": [
            "INFO:tensorflow:Assets written to: Save_Model/assets\n",
            "WARNING:absl:<keras.layers.recurrent.LSTMCell object at 0x7f547c5628d0> has the same name 'LSTMCell' as a built-in Keras object. Consider renaming <class 'keras.layers.recurrent.LSTMCell'> to avoid naming conflicts when loading with `tf.keras.models.load_model`. If renaming is not possible, pass the object in the `custom_objects` parameter of the load function.\n",
            "WARNING:absl:<keras.layers.recurrent.LSTMCell object at 0x7f547bd053d0> has the same name 'LSTMCell' as a built-in Keras object. Consider renaming <class 'keras.layers.recurrent.LSTMCell'> to avoid naming conflicts when loading with `tf.keras.models.load_model`. If renaming is not possible, pass the object in the `custom_objects` parameter of the load function.\n",
            "WARNING:absl:<keras.layers.recurrent.LSTMCell object at 0x7f547bd05e90> has the same name 'LSTMCell' as a built-in Keras object. Consider renaming <class 'keras.layers.recurrent.LSTMCell'> to avoid naming conflicts when loading with `tf.keras.models.load_model`. If renaming is not possible, pass the object in the `custom_objects` parameter of the load function.\n"
          ]
        }
      ],
      "source": [
        "newModel.save('Save_Model')"
      ]
    },
    {
      "cell_type": "markdown",
      "metadata": {
        "id": "veK8ZQtng8Yp"
      },
      "source": [
        "# Model Training"
      ]
    },
    {
      "cell_type": "code",
      "execution_count": null,
      "metadata": {
        "id": "KzfIKnRhfw51"
      },
      "outputs": [],
      "source": [
        "ticker = yf.Ticker('MSFT')\n",
        "df = ticker.history(period='max')\n",
        "df1 = df.reset_index()['Close']\n",
        "df2 = pd.DataFrame(df1)"
      ]
    },
    {
      "cell_type": "code",
      "execution_count": null,
      "metadata": {
        "id": "p88YzYe_gW9c"
      },
      "outputs": [],
      "source": [
        "scaler = MinMaxScaler(feature_range=(0, 1))\n",
        "df1 = scaler.fit_transform(np.array(df1).reshape(-1, 1))"
      ]
    },
    {
      "cell_type": "code",
      "execution_count": null,
      "metadata": {
        "id": "3ZkIKfuGggcC"
      },
      "outputs": [],
      "source": [
        "training_size=int(len(df1)*0.65)\n",
        "test_size=len(df1)-training_size\n",
        "train_data,test_data=df1[0:training_size,:1],df1[training_size:len(df1),:1]"
      ]
    },
    {
      "cell_type": "code",
      "execution_count": null,
      "metadata": {
        "id": "-PAaiARmp7Vv"
      },
      "outputs": [],
      "source": [
        "def create_dataset(dataset, time_step = 1, input_size = 1):\n",
        "\tdataX, dataY = [], []\n",
        "\tfor i in range(len(dataset)-time_step-input_size+1):\n",
        "\t\ta = []\n",
        "\t\tfor j in range(time_step) :\n",
        "\t\t\ta.append(dataset[i+j:(i+j+input_size), 0])\n",
        "\t\tdataX.append(a)\n",
        "\t\tdataY.append(dataset[i + time_step + input_size - 1, 0])\n",
        "\treturn array(dataX), array(dataY)\n",
        " \n",
        "time_step = 100\n",
        "input_size = 50\n",
        "X_train, y_train = create_dataset(train_data, time_step, input_size)\n",
        "X_test, y_test = create_dataset(test_data, time_step, input_size)"
      ]
    },
    {
      "cell_type": "code",
      "execution_count": null,
      "metadata": {
        "id": "bNhIv9Z6hYqt"
      },
      "outputs": [],
      "source": [
        "savedModel = keras.models.load_model('Save_Model')"
      ]
    },
    {
      "cell_type": "code",
      "execution_count": null,
      "metadata": {
        "colab": {
          "base_uri": "https://localhost:8080/"
        },
        "id": "FQOrT4I7mw0l",
        "outputId": "ce1ed589-0aec-4a1d-b1a8-70e43d52f4ef"
      },
      "outputs": [
        {
          "name": "stdout",
          "output_type": "stream",
          "text": [
            "95/95 [==============================] - 4s 33ms/step - loss: 0.1624\n"
          ]
        },
        {
          "data": {
            "text/plain": [
              "0.16242675483226776"
            ]
          },
          "execution_count": 177,
          "metadata": {},
          "output_type": "execute_result"
        }
      ],
      "source": [
        "savedModel.evaluate(X_test ,y_test )"
      ]
    },
    {
      "cell_type": "code",
      "execution_count": null,
      "metadata": {
        "colab": {
          "base_uri": "https://localhost:8080/"
        },
        "id": "R-_NUwxAhxvn",
        "outputId": "1d5ba910-15b0-49da-f687-9acd5f92651b"
      },
      "outputs": [
        {
          "name": "stdout",
          "output_type": "stream",
          "text": [
            "Epoch 1/30\n",
            "95/95 [==============================] - 17s 133ms/step - loss: 0.0040\n",
            "Epoch 2/30\n",
            "95/95 [==============================] - 13s 132ms/step - loss: 5.4148e-04\n",
            "Epoch 3/30\n",
            "95/95 [==============================] - 13s 134ms/step - loss: 4.5650e-04\n",
            "Epoch 4/30\n",
            "95/95 [==============================] - 13s 133ms/step - loss: 3.7911e-04\n",
            "Epoch 5/30\n",
            "95/95 [==============================] - 13s 134ms/step - loss: 4.9654e-04\n",
            "Epoch 6/30\n",
            "95/95 [==============================] - 13s 135ms/step - loss: 3.3595e-04\n",
            "Epoch 7/30\n",
            "95/95 [==============================] - 13s 132ms/step - loss: 2.9008e-04\n",
            "Epoch 8/30\n",
            "95/95 [==============================] - 13s 133ms/step - loss: 2.7434e-04\n",
            "Epoch 9/30\n",
            "95/95 [==============================] - 13s 133ms/step - loss: 2.7624e-04\n",
            "Epoch 10/30\n",
            "95/95 [==============================] - 13s 133ms/step - loss: 2.4687e-04\n",
            "Epoch 11/30\n",
            "95/95 [==============================] - 12s 130ms/step - loss: 2.4401e-04\n",
            "Epoch 12/30\n",
            "95/95 [==============================] - 13s 134ms/step - loss: 3.4198e-04\n",
            "Epoch 13/30\n",
            "95/95 [==============================] - 13s 135ms/step - loss: 1.8559e-04\n",
            "Epoch 14/30\n",
            "95/95 [==============================] - 12s 131ms/step - loss: 1.7582e-04\n",
            "Epoch 15/30\n",
            "95/95 [==============================] - 13s 133ms/step - loss: 2.2704e-04\n",
            "Epoch 16/30\n",
            "95/95 [==============================] - 13s 132ms/step - loss: 1.7570e-04\n",
            "Epoch 17/30\n",
            "95/95 [==============================] - 13s 132ms/step - loss: 1.9347e-04\n",
            "Epoch 18/30\n",
            "95/95 [==============================] - 13s 132ms/step - loss: 1.4184e-04\n",
            "Epoch 19/30\n",
            "95/95 [==============================] - 12s 129ms/step - loss: 1.7710e-04\n",
            "Epoch 20/30\n",
            "95/95 [==============================] - 12s 129ms/step - loss: 2.2073e-04\n",
            "Epoch 21/30\n",
            "95/95 [==============================] - 12s 130ms/step - loss: 1.2876e-04\n",
            "Epoch 22/30\n",
            "95/95 [==============================] - 12s 128ms/step - loss: 1.6415e-04\n",
            "Epoch 23/30\n",
            "95/95 [==============================] - 12s 129ms/step - loss: 1.2961e-04\n",
            "Epoch 24/30\n",
            "95/95 [==============================] - 13s 132ms/step - loss: 1.4197e-04\n",
            "Epoch 25/30\n",
            "95/95 [==============================] - 13s 132ms/step - loss: 1.0906e-04\n",
            "Epoch 26/30\n",
            "95/95 [==============================] - 13s 134ms/step - loss: 1.6132e-04\n",
            "Epoch 27/30\n",
            "95/95 [==============================] - 12s 130ms/step - loss: 1.4711e-04\n",
            "Epoch 28/30\n",
            "95/95 [==============================] - 12s 129ms/step - loss: 1.0616e-04\n",
            "Epoch 29/30\n",
            "95/95 [==============================] - 12s 130ms/step - loss: 1.0700e-04\n",
            "Epoch 30/30\n",
            "95/95 [==============================] - 12s 129ms/step - loss: 1.3989e-04\n"
          ]
        },
        {
          "data": {
            "text/plain": [
              "<keras.callbacks.History at 0x7f5479aa4250>"
            ]
          },
          "execution_count": 178,
          "metadata": {},
          "output_type": "execute_result"
        }
      ],
      "source": [
        "savedModel.fit(X_test, y_test, epochs=30, verbose=1)"
      ]
    },
    {
      "cell_type": "code",
      "execution_count": null,
      "metadata": {
        "colab": {
          "base_uri": "https://localhost:8080/"
        },
        "id": "o8s4k5xRkrgy",
        "outputId": "00872d17-d18a-454b-9fec-fda9eddfc680"
      },
      "outputs": [
        {
          "name": "stdout",
          "output_type": "stream",
          "text": [
            "95/95 [==============================] - 3s 32ms/step - loss: 1.5021e-04\n"
          ]
        },
        {
          "data": {
            "text/plain": [
              "0.00015020962746348232"
            ]
          },
          "execution_count": 179,
          "metadata": {},
          "output_type": "execute_result"
        }
      ],
      "source": [
        "savedModel.evaluate(X_test ,y_test )"
      ]
    },
    {
      "cell_type": "code",
      "execution_count": null,
      "metadata": {
        "colab": {
          "base_uri": "https://localhost:8080/"
        },
        "id": "nyDN34m0iBHo",
        "outputId": "bc0a821c-c12a-4408-fa53-b0a6c7600589"
      },
      "outputs": [
        {
          "name": "stderr",
          "output_type": "stream",
          "text": [
            "WARNING:absl:Found untraced functions such as lstm_cell_33_layer_call_fn, lstm_cell_33_layer_call_and_return_conditional_losses, lstm_cell_34_layer_call_fn, lstm_cell_34_layer_call_and_return_conditional_losses, lstm_cell_35_layer_call_fn while saving (showing 5 of 6). These functions will not be directly callable after loading.\n"
          ]
        },
        {
          "name": "stdout",
          "output_type": "stream",
          "text": [
            "INFO:tensorflow:Assets written to: Save_Model/assets\n"
          ]
        },
        {
          "name": "stderr",
          "output_type": "stream",
          "text": [
            "INFO:tensorflow:Assets written to: Save_Model/assets\n",
            "WARNING:absl:<keras.layers.recurrent.LSTMCell object at 0x7f547b25f350> has the same name 'LSTMCell' as a built-in Keras object. Consider renaming <class 'keras.layers.recurrent.LSTMCell'> to avoid naming conflicts when loading with `tf.keras.models.load_model`. If renaming is not possible, pass the object in the `custom_objects` parameter of the load function.\n",
            "WARNING:absl:<keras.layers.recurrent.LSTMCell object at 0x7f547b2ff090> has the same name 'LSTMCell' as a built-in Keras object. Consider renaming <class 'keras.layers.recurrent.LSTMCell'> to avoid naming conflicts when loading with `tf.keras.models.load_model`. If renaming is not possible, pass the object in the `custom_objects` parameter of the load function.\n",
            "WARNING:absl:<keras.layers.recurrent.LSTMCell object at 0x7f5486a17bd0> has the same name 'LSTMCell' as a built-in Keras object. Consider renaming <class 'keras.layers.recurrent.LSTMCell'> to avoid naming conflicts when loading with `tf.keras.models.load_model`. If renaming is not possible, pass the object in the `custom_objects` parameter of the load function.\n"
          ]
        }
      ],
      "source": [
        "savedModel.save('Save_Model')"
      ]
    },
    {
      "cell_type": "code",
      "execution_count": null,
      "metadata": {
        "id": "4AMqJ_6CilPn"
      },
      "outputs": [],
      "source": [
        "train_predict = savedModel.predict(X_train)\n",
        "test_predict = savedModel.predict(X_test)\n",
        "train_predict = scaler.inverse_transform(train_predict)\n",
        "test_predict = scaler.inverse_transform(test_predict)"
      ]
    },
    {
      "cell_type": "code",
      "execution_count": null,
      "metadata": {
        "colab": {
          "base_uri": "https://localhost:8080/"
        },
        "id": "hy-QSUW3i1oL",
        "outputId": "4ec2eaf2-b1c0-4dc4-9b40-5970e469c907"
      },
      "outputs": [
        {
          "name": "stderr",
          "output_type": "stream",
          "text": [
            "/usr/local/lib/python3.7/dist-packages/ipykernel_launcher.py:4: SettingWithCopyWarning: \n",
            "A value is trying to be set on a copy of a slice from a DataFrame.\n",
            "Try using .loc[row_indexer,col_indexer] = value instead\n",
            "\n",
            "See the caveats in the documentation: https://pandas.pydata.org/pandas-docs/stable/user_guide/indexing.html#returning-a-view-versus-a-copy\n",
            "  after removing the cwd from sys.path.\n"
          ]
        }
      ],
      "source": [
        "l = len(df2) - len(test_predict)\n",
        "test = df2[l:]\n",
        "train = df2[:l]\n",
        "test['Predictions'] = test_predict"
      ]
    },
    {
      "cell_type": "code",
      "execution_count": null,
      "metadata": {
        "colab": {
          "base_uri": "https://localhost:8080/",
          "height": 610
        },
        "id": "uYhhica8i61F",
        "outputId": "19980b91-0fb1-4e4e-d84b-67cbb58ce13c"
      },
      "outputs": [
        {
          "data": {
            "text/plain": [
              "<matplotlib.legend.Legend at 0x7f547c9bdd50>"
            ]
          },
          "execution_count": 183,
          "metadata": {},
          "output_type": "execute_result"
        },
        {
          "data": {
            "image/png": "[encoded data removed]",
            "text/plain": [
              "<Figure size 1584x720 with 1 Axes>"
            ]
          },
          "metadata": {
            "needs_background": "light"
          },
          "output_type": "display_data"
        }
      ],
      "source": [
        "plt.figure(figsize=(22, 10))\n",
        "plt.plot(test[['Predictions', 'Close']])\n",
        "plt.plot(train.Close)\n",
        "plt.legend(['Predicted', 'Actual', 'Actual-Train'])"
      ]
    },
    {
      "cell_type": "markdown",
      "metadata": {
        "id": "GUP4kAxnnyWc"
      },
      "source": [
        "# Model Future Predict"
      ]
    },
    {
      "cell_type": "code",
      "execution_count": null,
      "metadata": {
        "id": "f9kbCY3Fr-tv"
      },
      "outputs": [],
      "source": [
        "def create_first_dataset(dataset, time_step = 1, input_size = 1):\n",
        "\ta = []\n",
        "\tfor j in range(time_step) :\n",
        "\t\ta.append(dataset[j:(j+input_size),0])\n",
        "\treturn array(a)\n",
        "\n"
      ]
    },
    {
      "cell_type": "code",
      "execution_count": null,
      "metadata": {},
      "outputs": [],
      "source": [
        "savedModel = keras.models.load_model('Save_Model')\n"
      ]
    },
    {
      "cell_type": "code",
      "execution_count": null,
      "metadata": {
        "id": "BDkZcJHYp5qZ"
      },
      "outputs": [],
      "source": [
        "NumberOfFutureDays = 50"
      ]
    },
    {
      "cell_type": "code",
      "execution_count": null,
      "metadata": {
        "id": "uKCqIeAYsOU8"
      },
      "outputs": [],
      "source": [
        "x_input = df1[-149:]\n",
        "temp_list = create_first_dataset(x_input,100,50)\n",
        "temp_list = temp_list.reshape(1,100,50)"
      ]
    },
    {
      "cell_type": "code",
      "execution_count": null,
      "metadata": {
        "colab": {
          "base_uri": "https://localhost:8080/"
        },
        "id": "tGY2wZkksVeL",
        "outputId": "680dc6ba-1981-4a8f-f596-7357a8dae9ae"
      },
      "outputs": [
        {
          "name": "stdout",
          "output_type": "stream",
          "text": [
            "[[0.9018210172653198], [0.9053292870521545], [0.9098057150840759], [0.9209800362586975], [0.9329641461372375], [0.9440795183181763], [0.9534203410148621], [0.9628472328186035], [0.9710034728050232], [0.9795772433280945], [0.9870467782020569], [0.9930706024169922], [1.001015067100525], [1.0095789432525635], [1.0142347812652588], [1.0161327123641968], [1.0192614793777466], [1.023513913154602], [1.0296603441238403], [1.035045862197876], [1.0406843423843384], [1.0454493761062622], [1.052144169807434], [1.0594557523727417], [1.0641393661499023], [1.0688151121139526], [1.0715327262878418], [1.0741485357284546], [1.0761504173278809], [1.0782852172851562], [1.078870415687561], [1.0805883407592773], [1.0841158628463745], [1.0871162414550781], [1.0899754762649536], [1.0921945571899414], [1.0953348875045776], [1.0985218286514282], [1.1012500524520874], [1.1029694080352783], [1.1037940979003906], [1.1049561500549316], [1.1054928302764893], [1.1062132120132446], [1.1068137884140015], [1.1077529191970825], [1.1081533432006836], [1.1083815097808838], [1.1086362600326538], [1.1087805032730103]]\n",
            "50\n"
          ]
        }
      ],
      "source": [
        "lst_output=[]\n",
        "n_steps=100\n",
        "i=0\n",
        "\n",
        "temp = temp_list\n",
        "\n",
        "while(i<NumberOfFutureDays):\n",
        "    yhat = savedModel.predict(temp, verbose=0)\n",
        "    lst_output.extend(yhat.tolist())\n",
        "    new_input = temp[0,-1,1:]\n",
        "    new_input = np.append(new_input, yhat)\n",
        "    temp = temp[0,1:]\n",
        "    temp = np.append(temp, [new_input], axis = 0)\n",
        "    temp = temp.reshape(1, temp.shape[0],temp.shape[1])\n",
        "    i=i+1\n",
        "\n",
        "print(lst_output)\n",
        "print(len(lst_output))"
      ]
    },
    {
      "cell_type": "code",
      "execution_count": null,
      "metadata": {
        "colab": {
          "base_uri": "https://localhost:8080/"
        },
        "id": "0KYK-0KGtjlh",
        "outputId": "4717b0cf-94f5-45d0-c274-efe6ef903410"
      },
      "outputs": [
        {
          "name": "stdout",
          "output_type": "stream",
          "text": [
            "[308.7909279434205, 309.9919664302701, 311.52444901474104, 315.3499215726105, 319.45262121354864, 323.257912880416, 326.45569647153474, 329.68294538783755, 332.4751930560278, 335.41038019992067, 337.9675378324835, 340.0297637044229, 342.7495111645943, 345.681311020412, 347.27521370793295, 347.92496085787207, 348.9960784822236, 350.45187776195644, 352.5560774385383, 354.3997824189288, 356.3300877040848, 357.96137299253184, 360.2533018877381, 362.75638534319717, 364.3597969237484, 365.9605149981194, 366.8908765192023, 367.78638570274063, 368.4717197828189, 369.2025577930638, 369.4028975178959, 369.9910205112865, 371.19864992613776, 372.2258144269114, 373.2046590592391, 373.96435023417257, 375.0394264963951, 376.13045974220074, 377.064453415557, 377.65306613734407, 377.9353945578754, 378.33321725856035, 378.51694702861414, 378.7635660869071, 378.96917039200054, 379.29067708424475, 379.4277602245403, 379.5058719037679, 379.5930843690289, 379.64246531566704]\n",
            "50\n"
          ]
        }
      ],
      "source": [
        "future_p = [i[0] for i in scaler.inverse_transform(lst_output)]\n",
        "print(future_p)\n",
        "print(len(future_p))"
      ]
    },
    {
      "cell_type": "code",
      "execution_count": null,
      "metadata": {
        "colab": {
          "base_uri": "https://localhost:8080/"
        },
        "id": "Ur8Owf10pj87",
        "outputId": "5efae492-c352-46ed-ef0d-6df4768c8649"
      },
      "outputs": [
        {
          "name": "stdout",
          "output_type": "stream",
          "text": [
            "         Close\n",
            "0     0.061434\n",
            "1     0.063628\n",
            "2     0.064725\n",
            "3     0.063079\n",
            "4     0.061982\n",
            "...        ...\n",
            "9129       NaN\n",
            "9130       NaN\n",
            "9131       NaN\n",
            "9132       NaN\n",
            "9133       NaN\n",
            "\n",
            "[9134 rows x 1 columns]\n",
            "9084\n"
          ]
        },
        {
          "name": "stderr",
          "output_type": "stream",
          "text": [
            "/usr/local/lib/python3.7/dist-packages/ipykernel_launcher.py:7: SettingWithCopyWarning: \n",
            "A value is trying to be set on a copy of a slice from a DataFrame.\n",
            "Try using .loc[row_indexer,col_indexer] = value instead\n",
            "\n",
            "See the caveats in the documentation: https://pandas.pydata.org/pandas-docs/stable/user_guide/indexing.html#returning-a-view-versus-a-copy\n",
            "  import sys\n"
          ]
        }
      ],
      "source": [
        "future_pred = pd.DataFrame(df2)\n",
        "for i in range(NumberOfFutureDays):\n",
        "  future_pred.loc[future_pred.shape[0]] = [None]\n",
        "print(future_pred)\n",
        "print((len(df2)))\n",
        "abcd = future_pred[(len(df2)):]\n",
        "abcd['predictions'] = future_p"
      ]
    },
    {
      "cell_type": "code",
      "execution_count": null,
      "metadata": {
        "colab": {
          "base_uri": "https://localhost:8080/",
          "height": 610
        },
        "id": "TjSDkY4Ypycq",
        "outputId": "6110645b-59f8-4721-86c3-f59581aac6a5"
      },
      "outputs": [
        {
          "data": {
            "text/plain": [
              "<matplotlib.legend.Legend at 0x7f547c9bddd0>"
            ]
          },
          "execution_count": 190,
          "metadata": {},
          "output_type": "execute_result"
        },
        {
          "data": {
            "image/png": "[encoded data removed]",
            "text/plain": [
              "<Figure size 1584x720 with 1 Axes>"
            ]
          },
          "metadata": {
            "needs_background": "light"
          },
          "output_type": "display_data"
        }
      ],
      "source": [
        "plt.figure(figsize=(22, 10))\n",
        "plt.plot(test[['Predictions', 'Close']])\n",
        "plt.plot(train.Close)\n",
        "plt.plot(abcd['predictions'])\n",
        "plt.legend(['Predicted', 'Actual', 'Actual-Train', 'Future'])"
      ]
    }
  ],
  "metadata": {
    "colab": {
      "name": "ModelTrain.ipynb",
      "provenance": []
    },
    "kernelspec": {
      "display_name": "Python 3",
      "name": "python3"
    },
    "language_info": {
      "name": "python"
    }
  },
  "nbformat": 4,
  "nbformat_minor": 0
}
